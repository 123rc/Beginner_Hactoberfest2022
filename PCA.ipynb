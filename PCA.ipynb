{
 "cells": [
  {
   "cell_type": "code",
   "execution_count": null,
   "id": "7f7aa2db",
   "metadata": {},
   "outputs": [],
   "source": [
    "import pandas as pd\n",
    "import numpy as np\n",
    "import matplotlib.pyplot as plt\n",
    "%matplotlib inline\n",
    "from sklearn.decomposition import PCA\n",
    "from sklearn.preprocessing import StandardScaler"
   ]
  },
  {
   "cell_type": "code",
   "execution_count": null,
   "id": "900c5cd3",
   "metadata": {},
   "outputs": [],
   "source": [
    "from sklearn.datasets import load_breast_cancer"
   ]
  },
  {
   "cell_type": "code",
   "execution_count": null,
   "id": "2f49082f",
   "metadata": {},
   "outputs": [],
   "source": [
    "data=load_breast_cancer()\n",
    "data.keys()\n"
   ]
  },
  {
   "cell_type": "code",
   "execution_count": null,
   "id": "59a87bda",
   "metadata": {},
   "outputs": [],
   "source": [
    "print(data['target_names'])\n",
    " \n",
    "# Check the input attributes\n",
    "print(data['feature_names'])"
   ]
  },
  {
   "cell_type": "code",
   "execution_count": null,
   "id": "ee8b66c6",
   "metadata": {},
   "outputs": [],
   "source": []
  },
  {
   "cell_type": "code",
   "execution_count": null,
   "id": "e82f545b",
   "metadata": {},
   "outputs": [],
   "source": [
    "df1=pd.DataFrame(data['data'],columns=data['feature_names'])"
   ]
  },
  {
   "cell_type": "code",
   "execution_count": null,
   "id": "0e8c32d7",
   "metadata": {},
   "outputs": [],
   "source": [
    "scaling=StandardScaler()"
   ]
  },
  {
   "cell_type": "code",
   "execution_count": null,
   "id": "363a73f6",
   "metadata": {},
   "outputs": [],
   "source": [
    "scaling.fit(df1)\n",
    "Scaled_data=scaling.transform(df1)"
   ]
  },
  {
   "cell_type": "code",
   "execution_count": null,
   "id": "715b0267",
   "metadata": {},
   "outputs": [],
   "source": [
    "principal=PCA(n_components=3)\n",
    "principal.fit(Scaled_data)\n",
    "x=principal.transform(Scaled_data)"
   ]
  },
  {
   "cell_type": "code",
   "execution_count": null,
   "id": "3d1536bc",
   "metadata": {},
   "outputs": [],
   "source": [
    "print(x.shape)"
   ]
  },
  {
   "cell_type": "code",
   "execution_count": null,
   "id": "fb238eb5",
   "metadata": {},
   "outputs": [],
   "source": [
    "principal.components_"
   ]
  },
  {
   "cell_type": "code",
   "execution_count": null,
   "id": "ee99ebc6",
   "metadata": {},
   "outputs": [],
   "source": [
    "plt.figure(figsize=(10,10))\n",
    "plt.scatter(x[:,0],x[:,1],c=data['target'],cmap='plasma')\n",
    "plt.xlabel('pc1')\n",
    "plt.ylabel('pc2')\n"
   ]
  },
  {
   "cell_type": "code",
   "execution_count": null,
   "id": "a4b22149",
   "metadata": {},
   "outputs": [],
   "source": [
    "from mpl_toolkits.mplot3d import Axes3D\n",
    "fig = plt.figure(figsize=(10,10))\n",
    " \n",
    "# choose projection 3d for creating a 3d graph\n",
    "axis = fig.add_subplot(111, projection='3d')\n",
    " \n",
    "# x[:,0]is pc1,x[:,1] is pc2 while x[:,2] is pc3\n",
    "axis.scatter(x[:,0],x[:,1],x[:,2], c=data['target'],cmap='plasma')\n",
    "axis.set_xlabel(\"PC1\", fontsize=10)\n",
    "axis.set_ylabel(\"PC2\", fontsize=10)\n",
    "axis.set_zlabel(\"PC3\", fontsize=10)"
   ]
  },
  {
   "cell_type": "code",
   "execution_count": null,
   "id": "de24fa93",
   "metadata": {},
   "outputs": [],
   "source": []
  }
 ],
 "metadata": {
  "kernelspec": {
   "display_name": "Python 3.9.12 ('base')",
   "language": "python",
   "name": "python3"
  },
  "language_info": {
   "codemirror_mode": {
    "name": "ipython",
    "version": 3
   },
   "file_extension": ".py",
   "mimetype": "text/x-python",
   "name": "python",
   "nbconvert_exporter": "python",
   "pygments_lexer": "ipython3",
   "version": "3.9.12"
  },
  "vscode": {
   "interpreter": {
    "hash": "a5d8f50551a2a40145d3e4227330b0aa67f755b938c88a48d8bca4f5f9efb7ba"
   }
  }
 },
 "nbformat": 4,
 "nbformat_minor": 5
}
